{
 "cells": [
  {
   "cell_type": "code",
   "execution_count": 2,
   "metadata": {},
   "outputs": [
    {
     "name": "stdout",
     "output_type": "stream",
     "text": [
      "States: S,A,B,C,D\n",
      "\n",
      "Alphabet alphabet: 0,1\n",
      "\n",
      "initial initial: S\n",
      "\n",
      "final final: D\n",
      "\n",
      "transitions: \n",
      "\n",
      "(S,1)->A\n",
      "\n",
      "(A,1)->B\n",
      "\n",
      "(A,0)->C\n",
      "\n",
      "(C,0)->B\n",
      "\n",
      "(B,0)->D\n",
      "\n",
      "(D,1)->C\n",
      "\n",
      "(C,1)->D\n",
      "\n"
     ]
    }
   ],
   "source": [
    "def finiteAutomata(myFile):\n",
    "\n",
    "    states = []\n",
    "    alphabet = []\n",
    "    initial = None\n",
    "    final = None\n",
    "\n",
    "    with open(myFile) as file:\n",
    "        states = file.readline()\n",
    "        index = states.find('states: ')\n",
    "        if index != -1:\n",
    "            states = states[index + len('states: '):]\n",
    "\n",
    "        alphabet = file.readline()\n",
    "        index = states.find('alphabet: ')\n",
    "        if index != -1:\n",
    "            alphabet = alphabet[index + len('alphabet: '):]\n",
    "\n",
    "        initial = file.readline()\n",
    "        final = file.readline()\n",
    "        uselessLine = file.readline()\n",
    "\n",
    "        print(states)\n",
    "        print(alphabet)\n",
    "        print(initial)\n",
    "        print(final)\n",
    "        print(\"transitions: \\n\")\n",
    "\n",
    "        for line in file:\n",
    "            print(line)\n",
    "\n",
    "\n",
    "finiteAutomata(\"finiteAutomata.txt\")\n",
    "\n"
   ]
  }
 ],
 "metadata": {
  "kernelspec": {
   "display_name": "base",
   "language": "python",
   "name": "python3"
  },
  "language_info": {
   "codemirror_mode": {
    "name": "ipython",
    "version": 3
   },
   "file_extension": ".py",
   "mimetype": "text/x-python",
   "name": "python",
   "nbconvert_exporter": "python",
   "pygments_lexer": "ipython3",
   "version": "3.9.12"
  },
  "orig_nbformat": 4,
  "vscode": {
   "interpreter": {
    "hash": "f57152f7412bea0ae9d2c89e82cd1ea17a6b38d6122994c9b861518423872fef"
   }
  }
 },
 "nbformat": 4,
 "nbformat_minor": 2
}
